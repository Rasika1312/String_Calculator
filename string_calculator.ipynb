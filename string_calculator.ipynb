{
 "cells": [
  {
   "cell_type": "code",
   "execution_count": 3,
   "id": "988cbc33",
   "metadata": {},
   "outputs": [
    {
     "name": "stdout",
     "output_type": "stream",
     "text": [
      "Input:1,2,3\n",
      "Addition:  6\n"
     ]
    }
   ],
   "source": [
    "#taking input\n",
    "string1 = input(\"Input:\");\n",
    "# if string is empty return 0\n",
    "if string1 == \"\":\n",
    "    lst = [0]\n",
    "# if string not empty , split into int\n",
    "else:\n",
    "    lst = list(map(int, string1.split(\",\")))\n",
    "\n",
    "# initializing sum variable\n",
    "sum = 0;\n",
    "# Calculating sum for given input\n",
    "for i in lst:\n",
    "    sum += i;\n",
    "# print sum\n",
    "print(\"Addition: \",sum);"
   ]
  },
  {
   "cell_type": "code",
   "execution_count": null,
   "id": "ff4710ce",
   "metadata": {},
   "outputs": [],
   "source": []
  }
 ],
 "metadata": {
  "kernelspec": {
   "display_name": "Python 3",
   "language": "python",
   "name": "python3"
  },
  "language_info": {
   "codemirror_mode": {
    "name": "ipython",
    "version": 3
   },
   "file_extension": ".py",
   "mimetype": "text/x-python",
   "name": "python",
   "nbconvert_exporter": "python",
   "pygments_lexer": "ipython3",
   "version": "3.8.8"
  }
 },
 "nbformat": 4,
 "nbformat_minor": 5
}
